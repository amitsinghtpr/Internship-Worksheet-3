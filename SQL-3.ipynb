{
 "cells": [
  {
   "cell_type": "code",
   "execution_count": 1,
   "id": "6af7210c",
   "metadata": {},
   "outputs": [],
   "source": [
    "import sqlite3"
   ]
  },
  {
   "cell_type": "code",
   "execution_count": 2,
   "id": "88fcf95a",
   "metadata": {},
   "outputs": [],
   "source": [
    "db=sqlite3.connect(\"Car_company.db\")"
   ]
  },
  {
   "cell_type": "code",
   "execution_count": 3,
   "id": "0749c748",
   "metadata": {},
   "outputs": [],
   "source": [
    "cursor=db.cursor()"
   ]
  },
  {
   "cell_type": "markdown",
   "id": "c8c40436",
   "metadata": {},
   "source": [
    "1. Write SQL query to create table Customers"
   ]
  },
  {
   "cell_type": "code",
   "execution_count": 4,
   "id": "87548750",
   "metadata": {},
   "outputs": [
    {
     "data": {
      "text/plain": [
       "<sqlite3.Cursor at 0x2541fe325e0>"
      ]
     },
     "execution_count": 4,
     "metadata": {},
     "output_type": "execute_result"
    }
   ],
   "source": [
    "cursor.execute(\"CREATE TABLE Customers(CustomerNumber INT , CustomerFirstName TEXT,CustomerLastName TEXT,Phone_no INT PRIMARY KEY,AdressLine TEXT,City TEXT,State TEXT,Pincode INT,Country TEXT,SalesRepNumber INT,CreditLimit INT )\")"
   ]
  },
  {
   "cell_type": "code",
   "execution_count": 5,
   "id": "d05ed66d",
   "metadata": {},
   "outputs": [
    {
     "data": {
      "text/plain": [
       "<sqlite3.Cursor at 0x2541fe325e0>"
      ]
     },
     "execution_count": 5,
     "metadata": {},
     "output_type": "execute_result"
    }
   ],
   "source": [
    "cursor.execute(\"INSERT INTO Customers values(123,'avi','raj',1234567890,'lohiya nagar','godda','jharkhand',814133,'India',123,10000),(124,'ami','raj',1234567891,'kargil chowk','godda','jharkhand',814133,'India',124,10000),(125,'viks','raj',1234567892,'phed colony','godda','jharkhand',814133,'India',125,5000),(126,'vikash','raj',1234567893,'phed colony','godda','jharkhand',814133,'India',126,5000)\")"
   ]
  },
  {
   "cell_type": "code",
   "execution_count": 6,
   "id": "be0b8d39",
   "metadata": {},
   "outputs": [
    {
     "data": {
      "text/plain": [
       "<sqlite3.Cursor at 0x2541fe325e0>"
      ]
     },
     "execution_count": 6,
     "metadata": {},
     "output_type": "execute_result"
    }
   ],
   "source": [
    "cursor.execute (\"INSERT INTO Customers values(127,'Pranay','raj',1234567894,'phed colony','godda','jharkhand',814133,'India',127,10000)\")"
   ]
  },
  {
   "cell_type": "code",
   "execution_count": 7,
   "id": "5a5f8fc6",
   "metadata": {},
   "outputs": [
    {
     "name": "stdout",
     "output_type": "stream",
     "text": [
      "(123, 'avi', 'raj', 1234567890, 'lohiya nagar', 'godda', 'jharkhand', 814133, 'India', 123, 10000)\n",
      "(124, 'ami', 'raj', 1234567891, 'kargil chowk', 'godda', 'jharkhand', 814133, 'India', 124, 10000)\n",
      "(125, 'viks', 'raj', 1234567892, 'phed colony', 'godda', 'jharkhand', 814133, 'India', 125, 5000)\n",
      "(126, 'vikash', 'raj', 1234567893, 'phed colony', 'godda', 'jharkhand', 814133, 'India', 126, 5000)\n",
      "(127, 'Pranay', 'raj', 1234567894, 'phed colony', 'godda', 'jharkhand', 814133, 'India', 127, 10000)\n"
     ]
    }
   ],
   "source": [
    "result= cursor.execute(\"SELECT * FROM Customers;\")\n",
    "for i in result:\n",
    "    print(i)"
   ]
  },
  {
   "attachments": {
    "Screenshot%202022-12-03%20133934.jpg": {
     "image/jpeg": "[encoded data removed]"
    }
   },
   "cell_type": "markdown",
   "id": "48969678",
   "metadata": {},
   "source": [
    "2. Write SQL query to create table Orders.\n",
    "![Screenshot%202022-12-03%20133934.jpg](attachment:Screenshot%202022-12-03%20133934.jpg)"
   ]
  },
  {
   "cell_type": "code",
   "execution_count": 30,
   "id": "b2893ee1",
   "metadata": {},
   "outputs": [
    {
     "ename": "OperationalError",
     "evalue": "table orders already exists",
     "output_type": "error",
     "traceback": [
      "\u001b[1;31m---------------------------------------------------------------------------\u001b[0m",
      "\u001b[1;31mOperationalError\u001b[0m                          Traceback (most recent call last)",
      "Input \u001b[1;32mIn [30]\u001b[0m, in \u001b[0;36m<cell line: 1>\u001b[1;34m()\u001b[0m\n\u001b[1;32m----> 1\u001b[0m \u001b[43mcursor\u001b[49m\u001b[38;5;241;43m.\u001b[39;49m\u001b[43mexecute\u001b[49m\u001b[43m(\u001b[49m\u001b[38;5;124;43m\"\u001b[39;49m\u001b[38;5;124;43mCREATE TABLE orders(orderNumber INT PRIMARY KEY,orderDate DATE,shippedDate DATE,status TEXT,comments TEXT,customerNumber INT)\u001b[39;49m\u001b[38;5;124;43m\"\u001b[39;49m\u001b[43m)\u001b[49m\n",
      "\u001b[1;31mOperationalError\u001b[0m: table orders already exists"
     ]
    }
   ],
   "source": [
    "cursor.execute(\"CREATE TABLE orders(orderNumber INT PRIMARY KEY,orderDate DATE,shippedDate DATE,status TEXT,comments TEXT,customerNumber INT)\")"
   ]
  },
  {
   "cell_type": "code",
   "execution_count": 67,
   "id": "29983e26",
   "metadata": {},
   "outputs": [
    {
     "ename": "OperationalError",
     "evalue": "near \"0\": syntax error",
     "output_type": "error",
     "traceback": [
      "\u001b[1;31m---------------------------------------------------------------------------\u001b[0m",
      "\u001b[1;31mOperationalError\u001b[0m                          Traceback (most recent call last)",
      "Input \u001b[1;32mIn [67]\u001b[0m, in \u001b[0;36m<cell line: 1>\u001b[1;34m()\u001b[0m\n\u001b[1;32m----> 1\u001b[0m sa\u001b[38;5;241m=\u001b[39m\u001b[43mcursor\u001b[49m\u001b[38;5;241;43m.\u001b[39;49m\u001b[43mexecute\u001b[49m\u001b[43m(\u001b[49m\u001b[38;5;124;43m\"\u001b[39;49m\u001b[38;5;124;43mSELECT  TOP 0 * FROM orders ;\u001b[39;49m\u001b[38;5;124;43m\"\u001b[39;49m\u001b[43m)\u001b[49m\n\u001b[0;32m      2\u001b[0m \u001b[38;5;28;01mfor\u001b[39;00m i \u001b[38;5;129;01min\u001b[39;00m sa:\n\u001b[0;32m      3\u001b[0m     \u001b[38;5;28mprint\u001b[39m(i)\n",
      "\u001b[1;31mOperationalError\u001b[0m: near \"0\": syntax error"
     ]
    }
   ],
   "source": [
    "sa=cursor.execute(\"SELECT  TOP 0 * FROM orders ;\")\n",
    "for i in sa:\n",
    "    print(i)"
   ]
  },
  {
   "cell_type": "code",
   "execution_count": 32,
   "id": "905bbf2f",
   "metadata": {},
   "outputs": [
    {
     "data": {
      "text/plain": [
       "<sqlite3.Cursor at 0x2541fe325e0>"
      ]
     },
     "execution_count": 32,
     "metadata": {},
     "output_type": "execute_result"
    }
   ],
   "source": [
    "cursor.execute(\"INSERT INTO orders values(1232,'2019-11-4','2019-11-22','Intransit','a half mile away',124),(1233,'2019-01-4','2019-01-22','Intransit','a half mile away',125),(1234,'2018-01-22','2018-02-12','Intransit','a quater mile away',126),(1235,'2020-11-4','2020-11-22','SHIPMENT ARRIVED','a few hours away',127),(1236,'2021-12-4','2021-12-22','Reached ','Out for Delivery',128),(1237,'2019-10-29','2019-11-02','Intransit','a half mile away',129)\")"
   ]
  },
  {
   "cell_type": "code",
   "execution_count": 38,
   "id": "8f29d1bd",
   "metadata": {},
   "outputs": [
    {
     "data": {
      "text/plain": [
       "<sqlite3.Cursor at 0x2541fe325e0>"
      ]
     },
     "execution_count": 38,
     "metadata": {},
     "output_type": "execute_result"
    }
   ],
   "source": [
    "cursor.execute(\"INSERT INTO orders values(1238,'2019-11-4','2019-11-22','Intransit','a half mile away',130),(1239,'2019-11-4','2019-11-22','Intransit','a half mile away',131)\")"
   ]
  },
  {
   "cell_type": "markdown",
   "id": "9f6c16bf",
   "metadata": {},
   "source": [
    "3. Write SQL query to show all the columns data from the Orders Table"
   ]
  },
  {
   "cell_type": "code",
   "execution_count": 39,
   "id": "be0fc97d",
   "metadata": {},
   "outputs": [
    {
     "name": "stdout",
     "output_type": "stream",
     "text": [
      "(1232, '2019-11-4', '2019-11-22', 'Intransit', 'a half mile away', 124)\n",
      "(1233, '2019-01-4', '2019-01-22', 'Intransit', 'a half mile away', 125)\n",
      "(1234, '2018-01-22', '2018-02-12', 'Intransit', 'a quater mile away', 126)\n",
      "(1235, '2020-11-4', '2020-11-22', 'SHIPMENT ARRIVED', 'a few hours away', 127)\n",
      "(1236, '2021-12-4', '2021-12-22', 'Reached ', 'Out for Delivery', 128)\n",
      "(1237, '2019-10-29', '2019-11-02', 'Intransit', 'a half mile away', 129)\n",
      "(1238, '2019-11-4', '2019-11-22', 'Intransit', 'a half mile away', 130)\n",
      "(1239, '2019-11-4', '2019-11-22', 'Intransit', 'a half mile away', 131)\n"
     ]
    }
   ],
   "source": [
    "o=cursor.execute(\"SELECT * FROM orders;\")\n",
    "for i in o:\n",
    "    print(i)"
   ]
  },
  {
   "cell_type": "markdown",
   "id": "ae982f14",
   "metadata": {},
   "source": [
    "4. Write SQL query to show all the comments from the OrdersTable."
   ]
  },
  {
   "cell_type": "code",
   "execution_count": 34,
   "id": "72bd338a",
   "metadata": {},
   "outputs": [
    {
     "name": "stdout",
     "output_type": "stream",
     "text": [
      "('a half mile away',)\n",
      "('a half mile away',)\n",
      "('a quater mile away',)\n",
      "('a few hours away',)\n",
      "('Out for Delivery',)\n",
      "('a half mile away',)\n"
     ]
    }
   ],
   "source": [
    "comm=cursor.execute(\"SELECT Comments FROM orders\")\n",
    "for i in comm:\n",
    "    print(i)\n"
   ]
  },
  {
   "cell_type": "markdown",
   "id": "262533c7",
   "metadata": {},
   "source": [
    "5. Write a SQL query to show orderDate and Total number of orders placed on that date, from Orderstable."
   ]
  },
  {
   "cell_type": "code",
   "execution_count": 44,
   "id": "0f6c625a",
   "metadata": {},
   "outputs": [
    {
     "name": "stdout",
     "output_type": "stream",
     "text": [
      "(3,)\n"
     ]
    }
   ],
   "source": [
    "sqr=cursor.execute(\"SELECT COUNT(*) FROM orders WHERE OrderDate='2019-11-4'; \")\n",
    "\n",
    "for i in sqr:\n",
    "    print(i)"
   ]
  },
  {
   "attachments": {
    "image.png": {
     "image/png": "[encoded data removed]"
    }
   },
   "cell_type": "markdown",
   "id": "665d4907",
   "metadata": {},
   "source": [
    "6. Write a SQL query to show employeNumber, lastName, firstName of all the employees from employees\n",
    "table.\n",
    "![image.png](attachment:image.png)"
   ]
  },
  {
   "cell_type": "code",
   "execution_count": 45,
   "id": "8612090d",
   "metadata": {},
   "outputs": [
    {
     "data": {
      "text/plain": [
       "<sqlite3.Cursor at 0x2541fe325e0>"
      ]
     },
     "execution_count": 45,
     "metadata": {},
     "output_type": "execute_result"
    }
   ],
   "source": [
    "cursor.execute(\"CREATE TABLE employees(employeeNumber INT PRIMARY KEY, lastName TEXT,firstName TEXT, email TEXT,officeCode INT,reportsTo TEXT,jobtitle TEXT)\")"
   ]
  },
  {
   "cell_type": "code",
   "execution_count": 49,
   "id": "b1caaa6c",
   "metadata": {},
   "outputs": [
    {
     "data": {
      "text/plain": [
       "<sqlite3.Cursor at 0x2541fe325e0>"
      ]
     },
     "execution_count": 49,
     "metadata": {},
     "output_type": "execute_result"
    }
   ],
   "source": [
    "cursor.execute(\"INSERT INTO employees values(1122,'Dan','John','asbbvd@dhgf.com',121,'Team lead','Trainee'),(1123,'Foul','Artemis','asdfbbvd@dhgf.com',121,'Team lead','Intern'),(1124,'Bakugo','Katsuki','asdfbbvd@dhgf12.com',123,'Manager','Team lead'),(1125,'layover','Ronald','assddfbbvd@gf0.com',121,'CEO','Network Manager'),(1126,'Hemsworth','Evans','asdeddd@gmai.com',123,'manager','SE')\")"
   ]
  },
  {
   "cell_type": "code",
   "execution_count": 50,
   "id": "8836e451",
   "metadata": {},
   "outputs": [
    {
     "name": "stdout",
     "output_type": "stream",
     "text": [
      "(1122, 'Dan', 'John', 'asbbvd@dhgf.com', 121, 'Team lead', 'Trainee')\n",
      "(1123, 'Foul', 'Artemis', 'asdfbbvd@dhgf.com', 121, 'Team lead', 'Intern')\n",
      "(1124, 'Bakugo', 'Katsuki', 'asdfbbvd@dhgf12.com', 123, 'Manager', 'Team lead')\n",
      "(1125, 'layover', 'Ronald', 'assddfbbvd@gf0.com', 121, 'CEO', 'Network Manager')\n",
      "(1126, 'Hemsworth', 'Evans', 'asdeddd@gmai.com', 123, 'manager', 'SE')\n"
     ]
    }
   ],
   "source": [
    "emp=cursor.execute(\"SELECT * FROM employees;\")\n",
    "for i in emp:\n",
    "    print(i)"
   ]
  },
  {
   "cell_type": "code",
   "execution_count": 52,
   "id": "e8e37c0c",
   "metadata": {},
   "outputs": [
    {
     "name": "stdout",
     "output_type": "stream",
     "text": [
      "(1122, 'Dan', 'John')\n",
      "(1123, 'Foul', 'Artemis')\n",
      "(1124, 'Bakugo', 'Katsuki')\n",
      "(1125, 'layover', 'Ronald')\n",
      "(1126, 'Hemsworth', 'Evans')\n"
     ]
    }
   ],
   "source": [
    "src=cursor.execute(\"SELECT employeeNumber , lastName, firstName  FROM employees;\")\n",
    "for i in src:\n",
    "    print(i)"
   ]
  },
  {
   "cell_type": "markdown",
   "id": "263ee16d",
   "metadata": {},
   "source": [
    "7. Write a SQL query to show all orderNumber, customerName of the person who placed the respective order."
   ]
  },
  {
   "cell_type": "code",
   "execution_count": 61,
   "id": "169d1028",
   "metadata": {},
   "outputs": [
    {
     "ename": "OperationalError",
     "evalue": "no such column: orders.orderNumber",
     "output_type": "error",
     "traceback": [
      "\u001b[1;31m---------------------------------------------------------------------------\u001b[0m",
      "\u001b[1;31mOperationalError\u001b[0m                          Traceback (most recent call last)",
      "Input \u001b[1;32mIn [61]\u001b[0m, in \u001b[0;36m<cell line: 1>\u001b[1;34m()\u001b[0m\n\u001b[1;32m----> 1\u001b[0m sqp\u001b[38;5;241m=\u001b[39m\u001b[43mcursor\u001b[49m\u001b[38;5;241;43m.\u001b[39;49m\u001b[43mexecute\u001b[49m\u001b[43m(\u001b[49m\u001b[38;5;124;43m\"\u001b[39;49m\u001b[38;5;124;43mSELECT orders.orderNumber,Customers.CustomerFirstName,orders.orderDate FROM orders INNER JOIN Customers ON orders.CustomerNumber=Customers.CustomerNumber;\u001b[39;49m\u001b[38;5;124;43m\"\u001b[39;49m\u001b[43m)\u001b[49m\n",
      "\u001b[1;31mOperationalError\u001b[0m: no such column: orders.orderNumber"
     ]
    }
   ],
   "source": [
    "sqp=cursor.execute(\"SELECT orders.orderNumber,Customers.CustomerFirstName,orders.orderDate FROM orders INNER JOIN Customers ON orders.CustomerNumber=Customers.CustomerNumber;\")"
   ]
  },
  {
   "cell_type": "code",
   "execution_count": null,
   "id": "6a0ad680",
   "metadata": {},
   "outputs": [],
   "source": [
    "\n",
    "\n"
   ]
  }
 ],
 "metadata": {
  "kernelspec": {
   "display_name": "Python 3 (ipykernel)",
   "language": "python",
   "name": "python3"
  },
  "language_info": {
   "codemirror_mode": {
    "name": "ipython",
    "version": 3
   },
   "file_extension": ".py",
   "mimetype": "text/x-python",
   "name": "python",
   "nbconvert_exporter": "python",
   "pygments_lexer": "ipython3",
   "version": "3.9.12"
  }
 },
 "nbformat": 4,
 "nbformat_minor": 5
}
