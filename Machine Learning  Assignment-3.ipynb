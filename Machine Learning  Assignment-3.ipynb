{
 "cells": [
  {
   "cell_type": "markdown",
   "id": "705ccf36",
   "metadata": {},
   "source": [
    "                         MACHINE LEARNING\n"
   ]
  },
  {
   "cell_type": "markdown",
   "id": "c63e3c98",
   "metadata": {},
   "source": [
    "**Q1 to Q12 have only one correct answer. Choose the correct option to answer your question**"
   ]
  },
  {
   "cell_type": "markdown",
   "id": "4082a826",
   "metadata": {},
   "source": [
    "1. d) All the above"
   ]
  },
  {
   "cell_type": "markdown",
   "id": "24ec46a6",
   "metadata": {},
   "source": [
    "2. d) None"
   ]
  },
  {
   "cell_type": "markdown",
   "id": "12834be0",
   "metadata": {},
   "source": [
    "3. c) Reinforcement learning and Unsupervised Learning."
   ]
  },
  {
   "cell_type": "markdown",
   "id": "5b26d681",
   "metadata": {},
   "source": [
    "4. b) The tree representing how close the data point into individual groups"
   ]
  },
  {
   "cell_type": "markdown",
   "id": "9e2b203b",
   "metadata": {},
   "source": [
    "5. d) None"
   ]
  },
  {
   "cell_type": "markdown",
   "id": "79ec74c5",
   "metadata": {},
   "source": [
    "6. c) K-nearest neighbour is same as K-means."
   ]
  },
  {
   "cell_type": "markdown",
   "id": "ae5e7cf9",
   "metadata": {},
   "source": [
    "7. d) 1,2 and 3."
   ]
  },
  {
   "cell_type": "markdown",
   "id": "2fac72ef",
   "metadata": {},
   "source": [
    "8. a) 1 only"
   ]
  },
  {
   "cell_type": "markdown",
   "id": "efcb449c",
   "metadata": {},
   "source": [
    "9. a) 2"
   ]
  },
  {
   "cell_type": "markdown",
   "id": "e91c8cdd",
   "metadata": {},
   "source": [
    "10.a)Given sales data from a large number of products in a supermarket, estimate future sales for each \n",
    "of these products"
   ]
  },
  {
   "cell_type": "markdown",
   "id": "e569fe81",
   "metadata": {},
   "source": [
    "11. a) a"
   ]
  },
  {
   "cell_type": "markdown",
   "id": "60b10a97",
   "metadata": {},
   "source": [
    "12. b) b"
   ]
  },
  {
   "cell_type": "markdown",
   "id": "0cc8c4d4",
   "metadata": {},
   "source": [
    "13 . Importance of clustering:-Clustering is an unsupervised machine learning method of identifying and grouping similar data points in larger datasets without concern for the specific outcome. Clustering (sometimes called cluster analysis) is usually used to classify data into structures that are more easily understood and manipulated."
   ]
  },
  {
   "cell_type": "markdown",
   "id": "a96423c6",
   "metadata": {},
   "source": [
    "14. High clustering performance can be achieved by simply performing K-means clustering on the ICA components after PCA dimension reduction on the input data. However, the number of PCA and ICA signals/components needs to be limited to the number of unique classes."
   ]
  },
  {
   "cell_type": "markdown",
   "id": "a5f80bbf",
   "metadata": {},
   "source": []
  },
  {
   "cell_type": "markdown",
   "id": "808bf4a7",
   "metadata": {},
   "source": []
  }
 ],
 "metadata": {
  "kernelspec": {
   "display_name": "Python 3 (ipykernel)",
   "language": "python",
   "name": "python3"
  },
  "language_info": {
   "codemirror_mode": {
    "name": "ipython",
    "version": 3
   },
   "file_extension": ".py",
   "mimetype": "text/x-python",
   "name": "python",
   "nbconvert_exporter": "python",
   "pygments_lexer": "ipython3",
   "version": "3.9.12"
  }
 },
 "nbformat": 4,
 "nbformat_minor": 5
}
